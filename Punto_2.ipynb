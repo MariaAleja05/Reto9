{
  "nbformat": 4,
  "nbformat_minor": 0,
  "metadata": {
    "colab": {
      "provenance": []
    },
    "kernelspec": {
      "name": "python3",
      "display_name": "Python 3"
    },
    "language_info": {
      "name": "python"
    }
  },
  "cells": [
    {
      "cell_type": "markdown",
      "source": [
        "##**Punto 2**"
      ],
      "metadata": {
        "id": "WVPXU66LytkH"
      }
    },
    {
      "cell_type": "markdown",
      "source": [
        "**#1**"
      ],
      "metadata": {
        "id": "TogRNy_BNmMM"
      }
    },
    {
      "cell_type": "code",
      "source": [
        "def CalcularCantidadCarne(*args) -> float:\n",
        "  cantidad_carne = (6*N) + (7*M) + (1*K)\n",
        "  return cantidad_carne\n",
        "\n",
        "if __name__ == \"__main__\":\n",
        "  N = float(input(\"Ingrese el número de gallinas:\"))\n",
        "  M = float(input(\"Ingrese el número de gallos:\"))\n",
        "  K = float(input(\"Ingrese el número de pollitos:\"))\n",
        "  carne_total = CalcularCantidadCarne(N, M, K)\n",
        "  print(\"----------------------------------------------------------------\")\n",
        "  print(\"La cantidad de carne de aves en kilos es \" + str(carne_total))"
      ],
      "metadata": {
        "colab": {
          "base_uri": "https://localhost:8080/"
        },
        "id": "UGVjohCkNqyD",
        "outputId": "303c40e7-c7cf-42ca-947e-d478f11736da"
      },
      "execution_count": 4,
      "outputs": [
        {
          "output_type": "stream",
          "name": "stdout",
          "text": [
            "Ingrese el número de gallinas:5\n",
            "Ingrese el número de gallos:6\n",
            "Ingrese el número de pollitos:7\n",
            "----------------------------------------------------------------\n",
            "La cantidad de carne de aves en kilos es 79.0\n"
          ]
        }
      ]
    },
    {
      "cell_type": "markdown",
      "source": [
        "**#2**"
      ],
      "metadata": {
        "id": "_nXKq9k9fjXC"
      }
    },
    {
      "cell_type": "code",
      "source": [
        "def CalcularVueltas(*args) -> int:\n",
        "  precio = (300*P) + (3300*M) + (350*H)\n",
        "  vueltas = B-precio\n",
        "  return vueltas\n",
        "\n",
        "if __name__ == \"__main__\":\n",
        "  P = int(input(\"Ingrese el número de panes:\"))\n",
        "  M = int(input(\"Ingrese el número de bolsas de leche:\"))\n",
        "  H = int(input(\"Ingrese el número de huevos:\"))\n",
        "  B = int(input(\"Ingrese el billete con el que va a pagar:\"))\n",
        "  vueltas_t = CalcularVueltas(P, M, H, B)\n",
        "  print(\"----------------------------------------------------------------\")\n",
        "  if vueltas_t>0:\n",
        "    print(\"Las vueltas son \" + str(vueltas_t))\n",
        "  elif vueltas_t<0:\n",
        "    print(\"Se deben al vendedor \" + str(vueltas_t))\n",
        "  else:\n",
        "    print(\"No hay vueltas \" + str(vueltas_t))"
      ],
      "metadata": {
        "colab": {
          "base_uri": "https://localhost:8080/"
        },
        "id": "KSDv6wRrfmuh",
        "outputId": "4d43f970-97e3-4e8c-a8d5-d7fef2fb0670"
      },
      "execution_count": 5,
      "outputs": [
        {
          "output_type": "stream",
          "name": "stdout",
          "text": [
            "Ingrese el número de panes:67\n",
            "Ingrese el número de bolsas de leche:89\n",
            "Ingrese el número de huevos:56\n",
            "Ingrese el billete con el que va a pagar:150000\n",
            "----------------------------------------------------------------\n",
            "Se deben al vendedor -183400\n"
          ]
        }
      ]
    },
    {
      "cell_type": "markdown",
      "source": [
        "**#3**"
      ],
      "metadata": {
        "id": "JQcyz6lFfnN1"
      }
    },
    {
      "cell_type": "code",
      "source": [
        "def CalcularPrestamo(*args) -> float:\n",
        "  interes_mes = i/12\n",
        "  total = c*((1+interes_mes)**n)\n",
        "  return total\n",
        "\n",
        "if __name__ == \"__main__\":\n",
        "  c = float(input(\"Ingrese el valor del prestamo inicial:\"))\n",
        "  i = float(input(\"Ingrese el interés anual:\"))\n",
        "  n = float(input(\"Ingrese la cantidad de meses:\"))\n",
        "  total_f = CalcularPrestamo(c, i,)\n",
        "  print(\"----------------------------------------------------------------\")\n",
        "  print(\"El interes compuesto es \" + str(total_f))"
      ],
      "metadata": {
        "colab": {
          "base_uri": "https://localhost:8080/"
        },
        "id": "B7ScftSNfqUE",
        "outputId": "768861cc-a5c3-4a38-b387-d9c30950c895"
      },
      "execution_count": 6,
      "outputs": [
        {
          "output_type": "stream",
          "name": "stdout",
          "text": [
            "Ingrese el valor del prestamo inicial:70980\n",
            "Ingrese el interés anual:76\n",
            "Ingrese la cantidad de meses:9\n",
            "----------------------------------------------------------------\n",
            "El interes compuesto es 4353603062484.1807\n"
          ]
        }
      ]
    }
  ]
}