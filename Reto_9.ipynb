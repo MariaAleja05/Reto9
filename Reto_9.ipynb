{
  "cells": [
    {
      "cell_type": "markdown",
      "metadata": {
        "id": "OwuMNU_CclXX"
      },
      "source": [
        "##**Punto 1**"
      ]
    },
    {
      "cell_type": "markdown",
      "metadata": {
        "id": "pU8lAcIsco2Y"
      },
      "source": [
        "**Enunciado:** De los retos anteriores selecione 3 funciones y escribalas en forma de lambdas."
      ]
    },
    {
      "cell_type": "markdown",
      "metadata": {
        "id": "31ma5-90P57y"
      },
      "source": [
        "**#1**"
      ]
    },
    {
      "cell_type": "code",
      "execution_count": null,
      "metadata": {
        "colab": {
          "base_uri": "https://localhost:8080/"
        },
        "id": "WIB7naDAcgy_",
        "outputId": "d3a99e19-972c-4aae-9ea9-283ca434f270"
      },
      "outputs": [
        {
          "name": "stdout",
          "output_type": "stream",
          "text": [
            "Ingrese el número de gallinas:5\n",
            "Ingrese el número de gallos:6\n",
            "Ingrese el número de pollitos:7\n",
            "----------------------------------------------------------------\n",
            "La cantidad de carne de aves en kilos es 79.0\n"
          ]
        }
      ],
      "source": [
        "if __name__ == \"__main__\":\n",
        "  N = float(input(\"Ingrese el número de gallinas:\"))\n",
        "  M = float(input(\"Ingrese el número de gallos:\"))\n",
        "  K = float(input(\"Ingrese el número de pollitos:\"))\n",
        "  carne_total = (lambda N, M, K: ((6*N) + (7*M) + (1*K)))(N,M,K)\n",
        "  print(\"----------------------------------------------------------------\")\n",
        "  print(\"La cantidad de carne de aves en kilos es \" + str(carne_total))"
      ]
    },
    {
      "cell_type": "markdown",
      "metadata": {
        "id": "h9mqEp1VP8kc"
      },
      "source": [
        "**#2**"
      ]
    },
    {
      "cell_type": "code",
      "execution_count": null,
      "metadata": {
        "colab": {
          "base_uri": "https://localhost:8080/"
        },
        "id": "qK86moRSNsuw",
        "outputId": "cdec68e8-e1e7-4324-81f7-640de5e237a7"
      },
      "outputs": [
        {
          "name": "stdout",
          "output_type": "stream",
          "text": [
            "Ingrese el número de panes:67\n",
            "Ingrese el número de bolsas de leche:89\n",
            "Ingrese el número de huevos:56\n",
            "Ingrese el billete con el que va a pagar:150000\n",
            "----------------------------------------------------------------\n",
            "Se deben al vendedor -183400\n"
          ]
        }
      ],
      "source": [
        "if __name__ == \"__main__\":\n",
        "  P = int(input(\"Ingrese el número de panes:\"))\n",
        "  M = int(input(\"Ingrese el número de bolsas de leche:\"))\n",
        "  H = int(input(\"Ingrese el número de huevos:\"))\n",
        "  B = int(input(\"Ingrese el billete con el que va a pagar:\"))\n",
        "  vueltas_t = (lambda P, M, H, B: (B-((300*P) + (3300*M) + (350*H))))(P,M,H,B)\n",
        "  print(\"----------------------------------------------------------------\")\n",
        "  if vueltas_t>0:\n",
        "    print(\"Las vueltas son \" + str(vueltas_t))\n",
        "  elif vueltas_t<0:\n",
        "    print(\"Se deben al vendedor \" + str(vueltas_t))\n",
        "  else:\n",
        "    print(\"No hay vueltas \" + str(vueltas_t))"
      ]
    },
    {
      "cell_type": "markdown",
      "metadata": {
        "id": "Ii38RC-RP-lA"
      },
      "source": [
        "**#3**"
      ]
    },
    {
      "cell_type": "code",
      "execution_count": null,
      "metadata": {
        "colab": {
          "base_uri": "https://localhost:8080/"
        },
        "id": "mn1bD98rP_0G",
        "outputId": "28f4b59c-26ef-44a3-9b5b-c5d0b6c81f85"
      },
      "outputs": [
        {
          "name": "stdout",
          "output_type": "stream",
          "text": [
            "Ingrese el valor del prestamo inicial:70980\n",
            "Ingrese el interés anual:76\n",
            "Ingrese la cantidad de meses:9\n",
            "----------------------------------------------------------------\n",
            "El interes compuesto es 4353603062484.1807\n"
          ]
        }
      ],
      "source": [
        "if __name__ == \"__main__\":\n",
        "  c = float(input(\"Ingrese el valor del prestamo inicial:\"))\n",
        "  i = float(input(\"Ingrese el interés anual:\"))\n",
        "  n = float(input(\"Ingrese la cantidad de meses:\"))\n",
        "  total_f = (lambda c, i, n: c*((1+(i/12))**n))(c,i,n)\n",
        "  print(\"----------------------------------------------------------------\")\n",
        "  print(\"El interes compuesto es \" + str(total_f))"
      ]
    },
    {
      "cell_type": "markdown",
      "metadata": {
        "id": "8WDuiyuKcvzA"
      },
      "source": [
        "##**Punto 2**"
      ]
    },
    {
      "cell_type": "markdown",
      "metadata": {
        "id": "LL_adpptcwHA"
      },
      "source": [
        "**Enunciado:** De los retos anteriores selecione 3 funciones y escribalas con argumentos no definidos (*args)."
      ]
    },
    {
      "cell_type": "markdown",
      "metadata": {
        "id": "SBlmvqSzQuWW"
      },
      "source": [
        "**#1**"
      ]
    },
    {
      "cell_type": "code",
      "execution_count": null,
      "metadata": {
        "colab": {
          "base_uri": "https://localhost:8080/"
        },
        "id": "RgtJIJ5tcwb4",
        "outputId": "514d492d-7014-4505-8462-7d59ab481e6b"
      },
      "outputs": [
        {
          "name": "stdout",
          "output_type": "stream",
          "text": [
            "Ingrese el número de gallinas:5\n",
            "Ingrese el número de gallos:6\n",
            "Ingrese el número de pollitos:7\n",
            "----------------------------------------------------------------\n",
            "La cantidad de carne de aves en kilos es 79.0\n"
          ]
        }
      ],
      "source": [
        "def CalcularCantidadCarne(*args) -> float:\n",
        "  cantidad_carne = (6*N) + (7*M) + (1*K)\n",
        "  return cantidad_carne\n",
        "\n",
        "if __name__ == \"__main__\":\n",
        "  N = float(input(\"Ingrese el número de gallinas:\"))\n",
        "  M = float(input(\"Ingrese el número de gallos:\"))\n",
        "  K = float(input(\"Ingrese el número de pollitos:\"))\n",
        "  carne_total = CalcularCantidadCarne(N, M, K)\n",
        "  print(\"----------------------------------------------------------------\")\n",
        "  print(\"La cantidad de carne de aves en kilos es \" + str(carne_total))"
      ]
    },
    {
      "cell_type": "markdown",
      "metadata": {
        "id": "VDxXQBd4R2ux"
      },
      "source": [
        "**#2**"
      ]
    },
    {
      "cell_type": "code",
      "execution_count": null,
      "metadata": {
        "colab": {
          "base_uri": "https://localhost:8080/"
        },
        "id": "5VChcxiGR4lV",
        "outputId": "d05274f5-e570-4927-d347-66e92a404685"
      },
      "outputs": [
        {
          "name": "stdout",
          "output_type": "stream",
          "text": [
            "Ingrese el número de panes:67\n",
            "Ingrese el número de bolsas de leche:89\n",
            "Ingrese el número de huevos:56\n",
            "Ingrese el billete con el que va a pagar:150000\n",
            "----------------------------------------------------------------\n",
            "Se deben al vendedor -183400\n"
          ]
        }
      ],
      "source": [
        "def CalcularVueltas(*args) -> int:\n",
        "  precio = (300*P) + (3300*M) + (350*H)\n",
        "  vueltas = B-precio\n",
        "  return vueltas\n",
        "\n",
        "if __name__ == \"__main__\":\n",
        "  P = int(input(\"Ingrese el número de panes:\"))\n",
        "  M = int(input(\"Ingrese el número de bolsas de leche:\"))\n",
        "  H = int(input(\"Ingrese el número de huevos:\"))\n",
        "  B = int(input(\"Ingrese el billete con el que va a pagar:\"))\n",
        "  vueltas_t = CalcularVueltas(P, M, H, B)\n",
        "  print(\"----------------------------------------------------------------\")\n",
        "  if vueltas_t>0:\n",
        "    print(\"Las vueltas son \" + str(vueltas_t))\n",
        "  elif vueltas_t<0:\n",
        "    print(\"Se deben al vendedor \" + str(vueltas_t))\n",
        "  else:\n",
        "    print(\"No hay vueltas \" + str(vueltas_t))"
      ]
    },
    {
      "cell_type": "markdown",
      "metadata": {
        "id": "LvmPNFvsSWlP"
      },
      "source": [
        "**#3**"
      ]
    },
    {
      "cell_type": "code",
      "execution_count": null,
      "metadata": {
        "colab": {
          "base_uri": "https://localhost:8080/"
        },
        "id": "F4Bzbqr5SXth",
        "outputId": "1c9aa4f2-0e5f-497c-a7dd-49dc88fbcabb"
      },
      "outputs": [
        {
          "name": "stdout",
          "output_type": "stream",
          "text": [
            "Ingrese el valor del prestamo inicial:70980\n",
            "Ingrese el interés anual:76\n",
            "Ingrese la cantidad de meses:9\n",
            "----------------------------------------------------------------\n",
            "El interes compuesto es 4353603062484.1807\n"
          ]
        }
      ],
      "source": [
        "def CalcularPrestamo(*args) -> float:\n",
        "  interes_mes = i/12\n",
        "  total = c*((1+interes_mes)**n)\n",
        "  return total\n",
        "\n",
        "if __name__ == \"__main__\":\n",
        "  c = float(input(\"Ingrese el valor del prestamo inicial:\"))\n",
        "  i = float(input(\"Ingrese el interés anual:\"))\n",
        "  n = float(input(\"Ingrese la cantidad de meses:\"))\n",
        "  total_f = CalcularPrestamo(c, i,)\n",
        "  print(\"----------------------------------------------------------------\")\n",
        "  print(\"El interes compuesto es \" + str(total_f))"
      ]
    },
    {
      "cell_type": "markdown",
      "metadata": {
        "id": "nhlDqfhnc5U_"
      },
      "source": [
        "##**Punto 3**"
      ]
    },
    {
      "cell_type": "markdown",
      "metadata": {
        "id": "fBlNaWVgc6H3"
      },
      "source": [
        "**Enunciado:** Escriba una función recursiva para calcular la operación de la potencia."
      ]
    },
    {
      "cell_type": "code",
      "execution_count": null,
      "metadata": {
        "colab": {
          "base_uri": "https://localhost:8080/"
        },
        "id": "6Oagzg7nc6Xn",
        "outputId": "8f98ed39-96f5-470b-ffba-9ec821804692"
      },
      "outputs": [
        {
          "name": "stdout",
          "output_type": "stream",
          "text": [
            "Ingrese la potencia: 3\n",
            "Ingrese la base: 2\n",
            "La potencia de 2.0 elevado a 3 es: 8.0\n"
          ]
        }
      ],
      "source": [
        "def potencia(x, n):\n",
        "  if n == 0:\n",
        "    return 1\n",
        "  else:\n",
        "    return x * potencia(x, n - 1)\n",
        "\n",
        "if __name__ == \"__main__\":\n",
        "  n = int(input(\"Ingrese la potencia: \"))\n",
        "  x = float(input(\"Ingrese la base: \"))\n",
        "  rta = potencia(x, n)\n",
        "  print(\"La potencia de \" + str(x) + \" elevado a \" + str(n) + \" es: \" + str(rta))"
      ]
    },
    {
      "cell_type": "markdown",
      "metadata": {
        "id": "myRAs82fc6tP"
      },
      "source": [
        "##**Punto 4**"
      ]
    },
    {
      "cell_type": "markdown",
      "metadata": {
        "id": "7BGfU_ktc7Cn"
      },
      "source": [
        "**Enunciado:** Utilice la siguiente plantilla de code para contar el tiempo. Realice pruebas para calcular fibonacci con iteración o con recursión. Determine desde que número de la serie la diferencia de tiempo se vuelve significativa. Importante: Revisar este hilo."
      ]
    },
    {
      "cell_type": "code",
      "source": [
        "#Para calcular el tiempo cuando un valor es ingresado por el usuario\n",
        "\n",
        "import time\n",
        "def fiboRecursivo(n : int )-> int:\n",
        "  if n <=1:\n",
        "    # caso base\n",
        "    return 1\n",
        "  else:\n",
        "    # condicion\n",
        "    return fiboRecursivo(n-1)+fiboRecursivo(n-2)\n",
        "\n",
        "if __name__ == \"__main__\":\n",
        "  start_time = time.time()\n",
        "  num = int(input(\"Ingrese numero: \"))\n",
        "  serieFibo = fiboRecursivo(num)\n",
        "  print(\"La serie de Fibonacci hasta \" + str(num) + \" es \" + str(serieFibo))\n",
        "  end_time = time.time()\n",
        "\n",
        "  timer = end_time - start_time\n",
        "  print(\"El tiempo que se demoró el programa fue de: \" + str(timer))"
      ],
      "metadata": {
        "colab": {
          "base_uri": "https://localhost:8080/"
        },
        "id": "dr_wiVdIlgTw",
        "outputId": "21ebc14c-e1db-4b2b-a199-e69be31df555"
      },
      "execution_count": 11,
      "outputs": [
        {
          "output_type": "stream",
          "name": "stdout",
          "text": [
            "Ingrese numero: 3\n",
            "La serie de Fibonacci hasta 3 es 3\n",
            "El tiempo que se demoró el programa fue de: 1.0251801013946533\n"
          ]
        }
      ]
    },
    {
      "cell_type": "code",
      "source": [
        "#Para calcular desde que número de la serie la diferencia de tiempo se vuelve sorgnificativa\n",
        "\n",
        "import time\n",
        "\n",
        "bandera = True\n",
        "i : int = 1\n",
        "\n",
        "while bandera == True:\n",
        "\n",
        "  def fiboRecursivo(n : int )-> int:\n",
        "   if n <=1:\n",
        "     # caso base\n",
        "    return 1\n",
        "   else:\n",
        "    # condicion\n",
        "    return fiboRecursivo(n-1)+fiboRecursivo(n-2)\n",
        "\n",
        "  if __name__ == \"__main__\":\n",
        "    start_time = time.time()\n",
        "    num = i\n",
        "    serieFibo = fiboRecursivo(num)\n",
        "    end_time = time.time()\n",
        "    timer = end_time - start_time\n",
        "\n",
        "  if timer > 5.0: #necesitamos agilidad\n",
        "    break\n",
        "  else:\n",
        "    i=i+1\n",
        "print(\"La serie de Fibonacci hasta \" + str(num) + \" es \" + str(serieFibo))\n",
        "print(\"A partir de este numero se debe considerar un tiempo considerable superior a 5seg\")\n",
        "print(\"Su tiempo de ejecución hasta aquí fue de : \" +str(timer))"
      ],
      "metadata": {
        "colab": {
          "base_uri": "https://localhost:8080/"
        },
        "id": "wVdU2Eo2IR7F",
        "outputId": "293aaa40-2190-4c9d-c9ff-905da0b7540b"
      },
      "execution_count": 18,
      "outputs": [
        {
          "output_type": "stream",
          "name": "stdout",
          "text": [
            "La serie de Fibonacci hasta 36 es 24157817\n",
            "A partir de este numero se debe considerar un tiempo considerable superior a 5seg\n",
            "Su tiempo de ejecución hasta aquí fue de : 5.7948219776153564\n"
          ]
        }
      ]
    }
  ],
  "metadata": {
    "colab": {
      "provenance": [],
      "collapsed_sections": [
        "OwuMNU_CclXX",
        "8WDuiyuKcvzA",
        "nhlDqfhnc5U_"
      ]
    },
    "kernelspec": {
      "display_name": "Python 3",
      "name": "python3"
    },
    "language_info": {
      "name": "python"
    }
  },
  "nbformat": 4,
  "nbformat_minor": 0
}